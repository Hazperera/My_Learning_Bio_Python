{
 "cells": [
  {
   "cell_type": "markdown",
   "metadata": {},
   "source": [
    "### How to interpret a DNA structure & How machine learning algorithms can be used to build a prediction model on DNA sequence data"
   ]
  },
  {
   "cell_type": "markdown",
   "metadata": {},
   "source": [
    "#### Biopython \n",
    "A collection of python modules that provide functions to deal with DNA, RNA & protein sequence operations"
   ]
  },
  {
   "cell_type": "code",
   "execution_count": 5,
   "metadata": {
    "scrolled": true
   },
   "outputs": [
    {
     "name": "stdout",
     "output_type": "stream",
     "text": [
      "Requirement already satisfied: biopython in c:\\users\\admin\\anaconda3\\lib\\site-packages (1.76)\n",
      "Requirement already satisfied: numpy in c:\\users\\admin\\anaconda3\\lib\\site-packages (from biopython) (1.18.1)\n",
      "Note: you may need to restart the kernel to use updated packages.\n"
     ]
    }
   ],
   "source": [
    "pip install biopython"
   ]
  },
  {
   "cell_type": "markdown",
   "metadata": {},
   "source": [
    "#### Squiggle\n",
    "A software tool that automatically generates interactive web-based two-dimensional graphical representations of raw DNA sequences."
   ]
  },
  {
   "cell_type": "code",
   "execution_count": 6,
   "metadata": {
    "scrolled": true
   },
   "outputs": [
    {
     "name": "stdout",
     "output_type": "stream",
     "text": [
      "Requirement already satisfied: Squiggle in c:\\users\\admin\\anaconda3\\lib\\site-packages (0.3.1)\n",
      "Requirement already satisfied: pyfaidx>=0.5.4.2 in c:\\users\\admin\\anaconda3\\lib\\site-packages (from Squiggle) (0.5.8)\n",
      "Requirement already satisfied: click in c:\\users\\admin\\anaconda3\\lib\\site-packages (from Squiggle) (7.0)\n",
      "Requirement already satisfied: numpy in c:\\users\\admin\\anaconda3\\lib\\site-packages (from Squiggle) (1.18.1)\n",
      "Requirement already satisfied: tqdm in c:\\users\\admin\\anaconda3\\lib\\site-packages (from Squiggle) (4.42.1)\n",
      "Requirement already satisfied: bokeh>=0.13.0 in c:\\users\\admin\\anaconda3\\lib\\site-packages (from Squiggle) (1.4.0)\n",
      "Requirement already satisfied: python-box in c:\\users\\admin\\anaconda3\\lib\\site-packages (from Squiggle) (4.2.2)\n",
      "Requirement already satisfied: setuptools>=0.7 in c:\\users\\admin\\anaconda3\\lib\\site-packages (from pyfaidx>=0.5.4.2->Squiggle) (45.2.0.post20200210)\n",
      "Requirement already satisfied: six in c:\\users\\admin\\anaconda3\\lib\\site-packages (from pyfaidx>=0.5.4.2->Squiggle) (1.14.0)\n",
      "Requirement already satisfied: pillow>=4.0 in c:\\users\\admin\\anaconda3\\lib\\site-packages (from bokeh>=0.13.0->Squiggle) (7.0.0)\n",
      "Requirement already satisfied: python-dateutil>=2.1 in c:\\users\\admin\\anaconda3\\lib\\site-packages (from bokeh>=0.13.0->Squiggle) (2.8.1)\n",
      "Requirement already satisfied: packaging>=16.8 in c:\\users\\admin\\anaconda3\\lib\\site-packages (from bokeh>=0.13.0->Squiggle) (20.1)\n",
      "Requirement already satisfied: PyYAML>=3.10 in c:\\users\\admin\\anaconda3\\lib\\site-packages (from bokeh>=0.13.0->Squiggle) (5.3)\n",
      "Requirement already satisfied: tornado>=4.3 in c:\\users\\admin\\anaconda3\\lib\\site-packages (from bokeh>=0.13.0->Squiggle) (6.0.3)\n",
      "Requirement already satisfied: Jinja2>=2.7 in c:\\users\\admin\\anaconda3\\lib\\site-packages (from bokeh>=0.13.0->Squiggle) (2.11.1)\n",
      "Requirement already satisfied: toml in c:\\users\\admin\\anaconda3\\lib\\site-packages (from python-box->Squiggle) (0.10.0)\n",
      "Requirement already satisfied: ruamel.yaml in c:\\users\\admin\\anaconda3\\lib\\site-packages (from python-box->Squiggle) (0.16.10)\n",
      "Requirement already satisfied: pyparsing>=2.0.2 in c:\\users\\admin\\anaconda3\\lib\\site-packages (from packaging>=16.8->bokeh>=0.13.0->Squiggle) (2.4.6)\n",
      "Requirement already satisfied: MarkupSafe>=0.23 in c:\\users\\admin\\anaconda3\\lib\\site-packages (from Jinja2>=2.7->bokeh>=0.13.0->Squiggle) (1.1.1)\n",
      "Requirement already satisfied: ruamel.yaml.clib>=0.1.2; platform_python_implementation == \"CPython\" and python_version < \"3.9\" in c:\\users\\admin\\anaconda3\\lib\\site-packages (from ruamel.yaml->python-box->Squiggle) (0.2.0)\n",
      "Note: you may need to restart the kernel to use updated packages.\n"
     ]
    }
   ],
   "source": [
    "pip install Squiggle"
   ]
  },
  {
   "cell_type": "markdown",
   "metadata": {},
   "source": [
    "DNA sequence data usually are contained in a file format called “fasta” format. "
   ]
  },
  {
   "cell_type": "code",
   "execution_count": 7,
   "metadata": {},
   "outputs": [
    {
     "name": "stdout",
     "output_type": "stream",
     "text": [
      "ENST00000435737.5\n",
      "ATGTTTCGCATCACCAACATTGAGTTTCTTCCCGAATACCGACAAAAGGAGTCCAGGGAATTTCTTTCAGTGTCACGGACTGTGCAGCAAGTGATAAACCTGGTTTATACAACATCTGCCTTCTCCAAATTTTATGAGCAGTCTGTTGTTGCAGATGTCAGCAACAACAAAGGCGGCCTCCTTGTCCACTTTTGGATTGTTTTTGTCATGCCACGTGCCAAAGGCCACATCTTCTGTGAAGACTGTGTTGCCGCCATCTTGAAGGACTCCATCCAGACAAGCATCATAAACCGGACCTCTGTGGGGAGCTTGCAGGGACTGGCTGTGGACATGGACTCTGTGGTACTAAATGAAGTCCTGGGGCTGACTCTCATTGTCTGGATTGACTGA\n",
      "390\n",
      "ENST00000419127.5\n",
      "ATGTTTCGCATCACCAACATTGAGTTTCTTCCCGAATACCGACAAAAGGAGTCCAGGGAATTTCTTTCAGTGTCACGGACTGTGCAGCAAGTGATAAACCTGGTTTATACAACATCTGCCTTCTCCAAATTTTATGAGCAGTCTGTTGTTGCAGATGTCAGCAACAACAAAGGCGGCCTCCTTGTCCACTTTTGGATTGTTTTTGTCATGCCACGTGCCAAAGGCCACATCTTCTGTGAAGACTGTGTTGCCGCCATCTTGAAGGACTCCATCCAGACAAGCATCATAAACCGGACCTCTGTGGGGAGCTTGCAGGGACTGGCTGTGGACATGGACTCTGTGGTACTAAATGACAAAGGCTGCTCTCAGTACTTCTATGCAGAGCATCTGTCTCTCCACTACCCGCTGGAGATTTCTGCAGCCTCAGGGAGGCTGATGTGTCACTTCAAGCTGGTGGCCATAGTGGGCTACCTGATTCGTCTCTCAATCAAGTCCATCCAAATCGAAGCCGACAACTGTGTCACTGACTCCCTGACCATTTACGACTCCCTTTTGCCCATCCGGAGCAGCATCTTGTACAGAATTTGTGAACCCACAAGAACATTAATGTCATTTGTTTCTACAAATAATCTCATGTTGGTGACATTTAAGTCTCCTCATATACGGAGGCTCTCAGGAATCCGGGCATATTTTGAGGTCATTCCAGAACAAAAGTGTGAAAACACAGTGTTGGTCAAAGACATCACTGGCTTTGAAGGGAAAATTTCAAGCCCATATTACCCGAGCTACTATCCTCCAAAATGCAAGTGTACCTGGAAATTTCAGACTTCTCTATCAACTCTTGGCATAGCACTGAAATTCTATAACTATTCAATAACCAAGAAGAGTATGAAAGGCTGTGAGCATGGATGGTGGGAAATTAATGAGCACATGTACTGTGGCTCCTACATGGATCATCAGACAATTTTTCGAGTGCCCAGCCCTCTGGTTCACATTCAGCTCCAGTGCAGTTCAAGGCTTTCAGACAAGCCACTTTTGGCAGAATATGGCAGTTACAACATCAGTCAACCCTGCCCTGTTGGATCTTTTAGATGCTCCTCCGGTTTATGTGTCCCTCAGGCCCAGCGTTGTGATGGAGTAAATGACTGCTTTGATGAAAGTGATGAACTGTTTTGCGTGAGCCCTCAACCTGCCTGCAATACCAGCTCCTTCAGGCAGCATGGCCCTCTCATCTGTGATGGCTTCAGGGACTGTGAGAATGGCCGGGATGAGCAAAACTGCACTCAAAGTATTCCATGCAACAACAGAACTTTTAAGTGTGGCAATGATATTTGCTTTAGGAAACAAAATGCAAAATGTGATGGGACAGTGGATTGTCCAGATGGAAGTGATGAAGAAGGCTGCACCTGCAGCAGGAGTTCCTCCGCCCTTCACCGCATCATCGGAGGCACAGACACCCTGGAGGGGGGTTGGCCGTGGCAGGTCAGCCTCCACTTTGTTGGATCTGCCTACTGTGGTGCCTCAGTCATCTCCAGGGAGTGGCTTCTTTCTGCAGCCCACTGTTTTCATGGAAACAGGCTGTCAGATCCCACACCATGGACTGCACACCTCGGGATGTATGTTCAGGGGAATGCCAAGTTTGTCTCCCCGGTGAGAAGAATTGTGGTCCACGAGTACTATAACAGTCAGACTTTTGATTATGATATTGCTTTGCTACAGCTCAGTATTGCCTGGCCTGAGACCCTGAAACAGCTCATTCAGCCAATATGCATTCCTCCCACTGGTCAGAGAGTTCGCAGTGGGGAGAAGTGCTGGGTAACTGGCTGGGGGCGAAGACACGAAGCAGATAATAAAGGCTCCCTCGTTCTGCAGCAAGCGGAGGTAGAGCTCATTGATCAAACGCTCTGTGTTTCCACCTACGGGATCATCACTTCTCGGATGCTCTGTGCAGGCATAATGTCAGGCAAGAGAGATGCCTGCAAAGGAGATTCGGGTGGACCTTTATCTTGTCGAAGAAAAAGTGATGGAAAATGGATTTTGACTGGCATTGTTAGCTGGGGACATGGAAGTGGACGACCAAACTTTCCTGGTGTTTACACAAGGGTGTCAAACTTTGTTCCCTGGATTCATAAATATGTCCCTTCTCTTTTGTAA\n",
      "2154\n"
     ]
    }
   ],
   "source": [
    "from Bio import SeqIO\n",
    "\n",
    "for sequence in SeqIO.parse(\"DNA-Sequence-Machine-learning-master/DNA-Sequence-Machine-learning-master/example.fa\",\"fasta\"):\n",
    "    print(sequence.id)\n",
    "    print(sequence.seq)\n",
    "    print(len(sequence))\n"
   ]
  },
  {
   "cell_type": "markdown",
   "metadata": {},
   "source": [
    "#### Visualizing DNA sequences\n",
    "[to go to console use ! at the beginning]\n",
    "\n",
    "In Gates’s method, DNA sequences are converted into 2D walks in which Ts, As, Cs, and Gs are up, down, left, and right, respectively. This gives each sequence a “shape.” However, there is degeneracy, meaning that a visualization is not necessarily unique. For example, TGAC is a square (up, right, down, and left), but so is GTCA (right, up, left, down)"
   ]
  },
  {
   "cell_type": "code",
   "execution_count": 19,
   "metadata": {},
   "outputs": [
    {
     "name": "stderr",
     "output_type": "stream",
     "text": [
      "\n",
      "  0%|          | 0/2 [00:00<?, ? seqs/s]BokehDeprecationWarning: 'legend' keyword is deprecated, use explicit 'legend_label', 'legend_field', or 'legend_group' keywords instead\n",
      "BokehDeprecationWarning: 'legend' keyword is deprecated, use explicit 'legend_label', 'legend_field', or 'legend_group' keywords instead\n",
      "\n",
      "                                        \n"
     ]
    }
   ],
   "source": [
    "!Squiggle DNA-Sequence-Machine-learning-master/DNA-Sequence-Machine-learning-master/example.fa --method=gates"
   ]
  },
  {
   "cell_type": "markdown",
   "metadata": {},
   "source": [
    "<img src=\"https://miro.medium.com/max/1400/1*AybtKfSCZJaQiNX4CMMl9g.png\">"
   ]
  },
  {
   "cell_type": "code",
   "execution_count": 29,
   "metadata": {},
   "outputs": [
    {
     "name": "stderr",
     "output_type": "stream",
     "text": [
      "\n",
      "  0%|          | 0/6 [00:00<?, ? seqs/s]BokehDeprecationWarning: 'legend' keyword is deprecated, use explicit 'legend_label', 'legend_field', or 'legend_group' keywords instead\n",
      "BokehDeprecationWarning: 'legend' keyword is deprecated, use explicit 'legend_label', 'legend_field', or 'legend_group' keywords instead\n",
      "BokehDeprecationWarning: 'legend' keyword is deprecated, use explicit 'legend_label', 'legend_field', or 'legend_group' keywords instead\n",
      "BokehDeprecationWarning: 'legend' keyword is deprecated, use explicit 'legend_label', 'legend_field', or 'legend_group' keywords instead\n",
      "BokehDeprecationWarning: 'legend' keyword is deprecated, use explicit 'legend_label', 'legend_field', or 'legend_group' keywords instead\n",
      "BokehDeprecationWarning: 'legend' keyword is deprecated, use explicit 'legend_label', 'legend_field', or 'legend_group' keywords instead\n",
      "\n",
      "                                        \n"
     ]
    }
   ],
   "source": [
    "!Squiggle DNA-Sequence-Machine-learning-master/DNA-Sequence-Machine-learning-master/test.fasta"
   ]
  },
  {
   "cell_type": "markdown",
   "metadata": {},
   "source": [
    "Here, a DNA sequence is first converted into binary using the 2bit encoding scheme that maps T to 00, C to 01, A to 10, and G to 11."
   ]
  },
  {
   "cell_type": "markdown",
   "metadata": {},
   "source": [
    "<img src=\"https://miro.medium.com/max/1400/1*8wpOi0lOeiN7gtG6xIFuAw.png\">"
   ]
  },
  {
   "cell_type": "markdown",
   "metadata": {},
   "source": [
    "### Encoding Sequence Data\n",
    "Since machine learning or deep learning models require input to be feature matrices or numerical values and currently we still have our data in character or string format. \n",
    "So the next step is to encode these characters into matrices.\n",
    "There are 3 general approaches to encode sequence data:\n",
    "- Ordinal encoding DNA Sequence\n",
    "- One-hot encoding DNA Sequence\n",
    "- DNA sequence as a “language”, known as k-mer counting"
   ]
  },
  {
   "cell_type": "markdown",
   "metadata": {},
   "source": [
    "#### 1) Ordinal encoding DNA sequence data\n",
    " “ATGC” becomes [0.25, 0.5, 0.75, 1.0]. \n",
    " Any other base such as “N” can be a 0\n",
    " \n",
    " ##### Search and Replace\n",
    "- One of the most important re methods that use regular expressions is sub.\n",
    "- seq_string = re.sub('[^acgt]', 'n', seq_string) \n",
    "- This method replaces all occurrences of the RE [^acgt] in seq_string with n, substituting all occurrences. \n",
    "- This method returns modified string.\n",
    "\n",
    "##### Preprocessing data\n",
    "- sklearn.preprocessing package provides several common utility functions and transformer classes to change raw feature vectors into a representation that is more suitable for the downstream estimators.\n",
    "- class sklearn.preprocessing.LabelEncoder, encode target labels with value between 0 and n_classes-1\n"
   ]
  },
  {
   "cell_type": "code",
   "execution_count": 53,
   "metadata": {},
   "outputs": [
    {
     "data": {
      "text/plain": [
       "LabelEncoder()"
      ]
     },
     "execution_count": 53,
     "metadata": {},
     "output_type": "execute_result"
    }
   ],
   "source": [
    "import numpy as np\n",
    "import re\n",
    "def string_to_array(seq_string):\n",
    "    seq_string = seq_string.lower()\n",
    "    seq_string = re.sub('[^acgt]', 'n', seq_string) \n",
    "    seq_string = np.array(list(seq_string))\n",
    "    return seq_string\n",
    "#create a label encoder with 'acgtn' alphabet\n",
    "from sklearn.preprocessing import LabelEncoder\n",
    "label_encoder = LabelEncoder()\n",
    "label_encoder.fit(np.array(['a','c','g','t','z']))"
   ]
  },
  {
   "cell_type": "code",
   "execution_count": 54,
   "metadata": {},
   "outputs": [
    {
     "data": {
      "text/plain": [
       "array([1.  , 1.  , 0.5 , 0.25, 0.75, 0.5 , 0.5 , 0.25, 0.75, 1.  , 0.75])"
      ]
     },
     "execution_count": 54,
     "metadata": {},
     "output_type": "execute_result"
    }
   ],
   "source": [
    "def ordinal_encoder(my_array):\n",
    "    integer_encoded = label_encoder.transform(my_array)\n",
    "    float_encoded = integer_encoded.astype(float)\n",
    "    float_encoded[float_encoded == 0] = 0.25 # A\n",
    "    float_encoded[float_encoded == 1] = 0.50 # C\n",
    "    float_encoded[float_encoded == 2] = 0.75 # G\n",
    "    float_encoded[float_encoded == 3] = 1.00 # T\n",
    "    float_encoded[float_encoded == 4] = 0.00 # anything else, lets say n\n",
    "    return float_encoded\n",
    "seq_test = 'TTCAGCCAGTG'\n",
    "ordinal_encoder(string_to_array(seq_test))"
   ]
  },
  {
   "cell_type": "markdown",
   "metadata": {},
   "source": [
    "#### 2) One-hot encoding DNA Sequence\n"
   ]
  },
  {
   "cell_type": "code",
   "execution_count": 55,
   "metadata": {},
   "outputs": [
    {
     "data": {
      "text/plain": [
       "array([[0, 0, 1],\n",
       "       [1, 0, 0],\n",
       "       [1, 0, 0],\n",
       "       [0, 0, 0],\n",
       "       [0, 0, 0],\n",
       "       [0, 1, 0],\n",
       "       [0, 0, 0],\n",
       "       [0, 1, 0],\n",
       "       [0, 0, 1],\n",
       "       [1, 0, 0],\n",
       "       [1, 0, 0]])"
      ]
     },
     "execution_count": 55,
     "metadata": {},
     "output_type": "execute_result"
    }
   ],
   "source": [
    "from sklearn.preprocessing import OneHotEncoder\n",
    "def one_hot_encoder(seq_string):\n",
    "    int_encoded = label_encoder.transform(seq_string)\n",
    "    onehot_encoder = OneHotEncoder(sparse=False, dtype=int)\n",
    "    int_encoded = int_encoded.reshape(len(int_encoded), 1)\n",
    "    onehot_encoded = onehot_encoder.fit_transform(int_encoded)\n",
    "    onehot_encoded = np.delete(onehot_encoded, -1, 1)\n",
    "    return onehot_encoded\n",
    "seq_test = 'GAATTCTCGAA'\n",
    "one_hot_encoder(string_to_array(seq_test))"
   ]
  },
  {
   "cell_type": "markdown",
   "metadata": {},
   "source": [
    "#### 3) DNA sequence as a “language”, known as k-mer counting\n"
   ]
  },
  {
   "cell_type": "code",
   "execution_count": 56,
   "metadata": {},
   "outputs": [
    {
     "data": {
      "text/plain": [
       "['gtgccca',\n",
       " 'tgcccag',\n",
       " 'gcccagg',\n",
       " 'cccaggt',\n",
       " 'ccaggtt',\n",
       " 'caggttc',\n",
       " 'aggttca',\n",
       " 'ggttcag',\n",
       " 'gttcagt',\n",
       " 'ttcagtg',\n",
       " 'tcagtga',\n",
       " 'cagtgag',\n",
       " 'agtgagt',\n",
       " 'gtgagtg',\n",
       " 'tgagtga',\n",
       " 'gagtgac',\n",
       " 'agtgaca',\n",
       " 'gtgacac',\n",
       " 'tgacaca',\n",
       " 'gacacag',\n",
       " 'acacagg',\n",
       " 'cacaggc',\n",
       " 'acaggca',\n",
       " 'caggcag']"
      ]
     },
     "execution_count": 56,
     "metadata": {},
     "output_type": "execute_result"
    }
   ],
   "source": [
    "def Kmers_funct(seq, size):\n",
    "    return [seq[x:x+size].lower() for x in range(len(seq) - size + 1)]\n",
    "mySeq = 'GTGCCCAGGTTCAGTGAGTGACACAGGCAG'\n",
    "Kmers_funct(mySeq, size=7)"
   ]
  },
  {
   "cell_type": "code",
   "execution_count": 57,
   "metadata": {},
   "outputs": [
    {
     "data": {
      "text/plain": [
       "'gtgccc tgccca gcccag cccagg ccaggt caggtt aggttc ggttca gttcag ttcagt tcagtg cagtga agtgag gtgagt tgagtg gagtga agtgac gtgaca tgacac gacaca acacag cacagg acaggc caggca aggcag'"
      ]
     },
     "execution_count": 57,
     "metadata": {},
     "output_type": "execute_result"
    }
   ],
   "source": [
    "words = Kmers_funct(mySeq, size=6)\n",
    "joined_sentence = ' '.join(words)\n",
    "joined_sentence"
   ]
  },
  {
   "cell_type": "code",
   "execution_count": 58,
   "metadata": {},
   "outputs": [
    {
     "data": {
      "text/plain": [
       "array([[0, 1, 0, 1, 0, 0, 1, 1, 1, 1, 0, 0, 0, 0, 1, 0, 0, 1, 1, 1, 0, 0,\n",
       "        1, 1, 0, 0, 1, 1, 0, 1, 1, 0, 1, 1, 0, 1, 1, 0, 0, 0, 1, 0, 1, 1,\n",
       "        0, 1, 0, 0, 1],\n",
       "       [1, 0, 1, 0, 1, 1, 0, 0, 0, 0, 1, 1, 1, 1, 0, 1, 1, 0, 0, 0, 1, 1,\n",
       "        0, 0, 1, 1, 0, 0, 1, 0, 0, 1, 0, 0, 1, 0, 0, 1, 1, 1, 0, 1, 0, 0,\n",
       "        1, 0, 1, 1, 0],\n",
       "       [0, 1, 0, 1, 0, 0, 1, 1, 1, 1, 0, 0, 0, 0, 1, 0, 0, 1, 1, 1, 0, 0,\n",
       "        1, 1, 0, 0, 1, 1, 0, 1, 1, 0, 1, 1, 0, 1, 1, 0, 0, 0, 1, 0, 1, 1,\n",
       "        0, 1, 0, 0, 1]], dtype=int64)"
      ]
     },
     "execution_count": 58,
     "metadata": {},
     "output_type": "execute_result"
    }
   ],
   "source": [
    "mySeq1 = 'TCTCACACATGTGCCAATCACTGTCACCC'\n",
    "mySeq2 = 'GTGCCCAGGTTCAGTGAGTGACACAGGCAG'\n",
    "sentence1 = ' '.join(Kmers_funct(mySeq1, size=6))\n",
    "sentence2 = ' '.join(Kmers_funct(mySeq2, size=6))\n",
    "from sklearn.feature_extraction.text import CountVectorizer\n",
    "cv = CountVectorizer()\n",
    "X = cv.fit_transform([joined_sentence, sentence1, sentence2]).toarray()\n",
    "X"
   ]
  },
  {
   "cell_type": "code",
   "execution_count": null,
   "metadata": {},
   "outputs": [],
   "source": []
  },
  {
   "cell_type": "code",
   "execution_count": null,
   "metadata": {},
   "outputs": [],
   "source": []
  },
  {
   "cell_type": "code",
   "execution_count": null,
   "metadata": {},
   "outputs": [],
   "source": []
  },
  {
   "cell_type": "code",
   "execution_count": null,
   "metadata": {},
   "outputs": [],
   "source": []
  }
 ],
 "metadata": {
  "kernelspec": {
   "display_name": "Python 3",
   "language": "python",
   "name": "python3"
  },
  "language_info": {
   "codemirror_mode": {
    "name": "ipython",
    "version": 3
   },
   "file_extension": ".py",
   "mimetype": "text/x-python",
   "name": "python",
   "nbconvert_exporter": "python",
   "pygments_lexer": "ipython3",
   "version": "3.8.3"
  }
 },
 "nbformat": 4,
 "nbformat_minor": 4
}
